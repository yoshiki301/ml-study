{
 "cells": [
  {
   "cell_type": "code",
   "execution_count": 1,
   "metadata": {},
   "outputs": [],
   "source": [
    "import torch\n",
    "from transformers import BertForMaskedLM, AutoTokenizer"
   ]
  },
  {
   "cell_type": "code",
   "execution_count": 2,
   "metadata": {},
   "outputs": [],
   "source": [
    "tokenizer = AutoTokenizer.from_pretrained('distilbert-base-uncased')\n",
    "unique_labels = list(range(10))"
   ]
  },
  {
   "cell_type": "code",
   "execution_count": 3,
   "metadata": {},
   "outputs": [],
   "source": [
    "class CustomBERTClass(torch.nn.Module):\n",
    "    def __init__(self):\n",
    "        super(CustomBERTClass, self).__init__()\n",
    "        self.l1 = BertForMaskedLM.from_pretrained('distilbert-base-uncased', return_dict=True, output_hidden_states=True)\n",
    "        self.l1.resize_token_embeddings(len(tokenizer))\n",
    "        self.l2 = torch.nn.Dropout(0.3)\n",
    "        self.l3 = torch.nn.Linear(768, 1024)\n",
    "        self.l4 = torch.nn.Dropout(0.3)\n",
    "        self.l5 = torch.nn.Linear(1024, len(unique_labels))\n",
    "\n",
    "        # explainerに読み込ませるためにアトリビュートを生やす\n",
    "        self.config = self.l1.config\n",
    "        self.base_model_prefix = self.l1.base_model_prefix\n",
    "        self.device = self.l1.device\n",
    "        self.get_input_embeddings = self.l1.get_input_embeddings\n",
    "        self.bert = self.l1.bert\n",
    "\n",
    "\n",
    "    def forward(self, input_ids, attention_mask=None, token_type_ids=None):\n",
    "        output = self.l1(\n",
    "            input_ids,\n",
    "            attention_mask=attention_mask,\n",
    "            token_type_ids=token_type_ids\n",
    "        )\n",
    "        cls_embeddings = output.hidden_states[-1][:,0,:]\n",
    "        output = self.l2(cls_embeddings)\n",
    "        output = self.l3(output)\n",
    "        output = self.l4(output)\n",
    "        output = self.l5(output)\n",
    "        return output"
   ]
  },
  {
   "cell_type": "code",
   "execution_count": 4,
   "metadata": {},
   "outputs": [
    {
     "name": "stderr",
     "output_type": "stream",
     "text": [
      "You are using a model of type distilbert to instantiate a model of type bert. This is not supported for all configurations of models and can yield errors.\n",
      "Some weights of the model checkpoint at distilbert-base-uncased were not used when initializing BertForMaskedLM: ['distilbert.transformer.layer.3.ffn.lin2.bias', 'vocab_layer_norm.weight', 'distilbert.transformer.layer.5.attention.k_lin.bias', 'distilbert.transformer.layer.0.sa_layer_norm.bias', 'distilbert.transformer.layer.3.attention.k_lin.bias', 'distilbert.transformer.layer.0.attention.k_lin.bias', 'distilbert.transformer.layer.0.attention.q_lin.bias', 'distilbert.transformer.layer.1.ffn.lin1.bias', 'distilbert.transformer.layer.2.attention.q_lin.bias', 'distilbert.transformer.layer.4.ffn.lin2.bias', 'distilbert.transformer.layer.0.attention.out_lin.bias', 'distilbert.transformer.layer.0.ffn.lin2.weight', 'distilbert.transformer.layer.1.attention.v_lin.bias', 'distilbert.transformer.layer.4.ffn.lin1.weight', 'distilbert.transformer.layer.1.output_layer_norm.bias', 'distilbert.transformer.layer.5.attention.k_lin.weight', 'vocab_transform.weight', 'distilbert.transformer.layer.3.sa_layer_norm.bias', 'distilbert.transformer.layer.0.ffn.lin1.weight', 'distilbert.transformer.layer.1.sa_layer_norm.weight', 'distilbert.transformer.layer.4.attention.out_lin.weight', 'distilbert.transformer.layer.5.sa_layer_norm.bias', 'distilbert.transformer.layer.2.attention.q_lin.weight', 'distilbert.transformer.layer.1.ffn.lin2.bias', 'distilbert.transformer.layer.2.sa_layer_norm.weight', 'distilbert.transformer.layer.4.ffn.lin2.weight', 'distilbert.transformer.layer.2.attention.out_lin.weight', 'distilbert.transformer.layer.4.sa_layer_norm.bias', 'distilbert.transformer.layer.2.ffn.lin1.bias', 'distilbert.transformer.layer.5.attention.q_lin.bias', 'distilbert.transformer.layer.4.attention.v_lin.bias', 'distilbert.transformer.layer.3.ffn.lin2.weight', 'distilbert.transformer.layer.4.sa_layer_norm.weight', 'distilbert.transformer.layer.2.attention.k_lin.bias', 'distilbert.transformer.layer.2.ffn.lin2.weight', 'distilbert.transformer.layer.5.output_layer_norm.weight', 'distilbert.transformer.layer.4.attention.k_lin.weight', 'distilbert.transformer.layer.0.attention.out_lin.weight', 'distilbert.transformer.layer.5.attention.out_lin.bias', 'distilbert.transformer.layer.5.sa_layer_norm.weight', 'distilbert.transformer.layer.3.attention.v_lin.bias', 'vocab_projector.weight', 'distilbert.transformer.layer.3.attention.q_lin.weight', 'distilbert.transformer.layer.0.output_layer_norm.weight', 'distilbert.transformer.layer.1.attention.k_lin.weight', 'distilbert.transformer.layer.5.attention.v_lin.weight', 'distilbert.transformer.layer.4.attention.v_lin.weight', 'distilbert.transformer.layer.4.ffn.lin1.bias', 'distilbert.transformer.layer.1.ffn.lin2.weight', 'distilbert.transformer.layer.3.sa_layer_norm.weight', 'distilbert.transformer.layer.3.attention.out_lin.weight', 'distilbert.transformer.layer.3.attention.v_lin.weight', 'distilbert.embeddings.LayerNorm.weight', 'distilbert.transformer.layer.1.ffn.lin1.weight', 'distilbert.embeddings.position_embeddings.weight', 'distilbert.transformer.layer.2.ffn.lin2.bias', 'distilbert.transformer.layer.3.ffn.lin1.weight', 'vocab_transform.bias', 'distilbert.transformer.layer.0.output_layer_norm.bias', 'distilbert.transformer.layer.1.sa_layer_norm.bias', 'distilbert.transformer.layer.2.attention.k_lin.weight', 'distilbert.transformer.layer.2.attention.v_lin.weight', 'distilbert.transformer.layer.0.ffn.lin1.bias', 'distilbert.transformer.layer.0.attention.v_lin.bias', 'distilbert.transformer.layer.4.output_layer_norm.bias', 'distilbert.transformer.layer.2.attention.v_lin.bias', 'distilbert.transformer.layer.1.output_layer_norm.weight', 'distilbert.transformer.layer.5.ffn.lin2.weight', 'vocab_layer_norm.bias', 'distilbert.transformer.layer.0.attention.v_lin.weight', 'distilbert.embeddings.LayerNorm.bias', 'distilbert.transformer.layer.2.sa_layer_norm.bias', 'distilbert.transformer.layer.1.attention.q_lin.bias', 'distilbert.transformer.layer.3.output_layer_norm.weight', 'distilbert.embeddings.word_embeddings.weight', 'distilbert.transformer.layer.5.attention.v_lin.bias', 'distilbert.transformer.layer.3.output_layer_norm.bias', 'distilbert.transformer.layer.1.attention.v_lin.weight', 'distilbert.transformer.layer.5.ffn.lin1.bias', 'distilbert.transformer.layer.4.output_layer_norm.weight', 'distilbert.transformer.layer.2.ffn.lin1.weight', 'distilbert.transformer.layer.2.output_layer_norm.bias', 'distilbert.transformer.layer.0.attention.q_lin.weight', 'distilbert.transformer.layer.2.attention.out_lin.bias', 'distilbert.transformer.layer.5.ffn.lin1.weight', 'distilbert.transformer.layer.3.ffn.lin1.bias', 'distilbert.transformer.layer.1.attention.out_lin.bias', 'distilbert.transformer.layer.2.output_layer_norm.weight', 'distilbert.transformer.layer.5.attention.out_lin.weight', 'distilbert.transformer.layer.3.attention.q_lin.bias', 'distilbert.transformer.layer.0.sa_layer_norm.weight', 'distilbert.transformer.layer.3.attention.out_lin.bias', 'distilbert.transformer.layer.4.attention.q_lin.bias', 'distilbert.transformer.layer.4.attention.k_lin.bias', 'distilbert.transformer.layer.1.attention.k_lin.bias', 'distilbert.transformer.layer.0.attention.k_lin.weight', 'distilbert.transformer.layer.1.attention.out_lin.weight', 'distilbert.transformer.layer.5.ffn.lin2.bias', 'distilbert.transformer.layer.4.attention.q_lin.weight', 'distilbert.transformer.layer.5.output_layer_norm.bias', 'distilbert.transformer.layer.3.attention.k_lin.weight', 'distilbert.transformer.layer.4.attention.out_lin.bias', 'distilbert.transformer.layer.1.attention.q_lin.weight', 'distilbert.transformer.layer.5.attention.q_lin.weight', 'distilbert.transformer.layer.0.ffn.lin2.bias', 'vocab_projector.bias']\n",
      "- This IS expected if you are initializing BertForMaskedLM from the checkpoint of a model trained on another task or with another architecture (e.g. initializing a BertForSequenceClassification model from a BertForPreTraining model).\n",
      "- This IS NOT expected if you are initializing BertForMaskedLM from the checkpoint of a model that you expect to be exactly identical (initializing a BertForSequenceClassification model from a BertForSequenceClassification model).\n",
      "Some weights of BertForMaskedLM were not initialized from the model checkpoint at distilbert-base-uncased and are newly initialized: ['encoder.layer.2.attention.self.query.bias', 'cls.predictions.transform.LayerNorm.bias', 'encoder.layer.0.attention.output.dense.weight', 'embeddings.LayerNorm.bias', 'encoder.layer.9.intermediate.dense.bias', 'encoder.layer.11.output.LayerNorm.weight', 'encoder.layer.6.attention.self.key.bias', 'encoder.layer.1.attention.output.dense.bias', 'encoder.layer.2.output.dense.weight', 'encoder.layer.3.attention.self.value.weight', 'encoder.layer.4.intermediate.dense.bias', 'encoder.layer.7.attention.self.query.weight', 'encoder.layer.3.output.LayerNorm.weight', 'encoder.layer.8.attention.self.query.bias', 'encoder.layer.11.attention.self.value.weight', 'encoder.layer.7.attention.self.query.bias', 'encoder.layer.2.attention.self.key.weight', 'encoder.layer.2.attention.self.key.bias', 'encoder.layer.5.attention.output.LayerNorm.bias', 'encoder.layer.11.attention.output.LayerNorm.bias', 'encoder.layer.10.attention.output.dense.weight', 'encoder.layer.2.intermediate.dense.bias', 'encoder.layer.8.output.LayerNorm.weight', 'encoder.layer.4.attention.self.value.weight', 'encoder.layer.1.attention.self.query.bias', 'encoder.layer.1.output.dense.bias', 'encoder.layer.11.output.LayerNorm.bias', 'encoder.layer.1.output.LayerNorm.bias', 'encoder.layer.4.attention.self.key.bias', 'encoder.layer.0.attention.self.value.bias', 'encoder.layer.11.attention.self.query.bias', 'encoder.layer.8.intermediate.dense.bias', 'encoder.layer.3.attention.output.LayerNorm.bias', 'encoder.layer.3.intermediate.dense.bias', 'encoder.layer.5.output.dense.bias', 'encoder.layer.11.attention.self.value.bias', 'encoder.layer.5.attention.self.key.weight', 'encoder.layer.0.intermediate.dense.bias', 'encoder.layer.7.attention.self.value.weight', 'encoder.layer.5.attention.self.query.weight', 'encoder.layer.5.attention.self.query.bias', 'encoder.layer.11.intermediate.dense.weight', 'encoder.layer.1.attention.self.key.bias', 'encoder.layer.8.attention.self.query.weight', 'cls.predictions.transform.LayerNorm.weight', 'encoder.layer.4.attention.self.key.weight', 'encoder.layer.6.attention.output.LayerNorm.weight', 'encoder.layer.10.attention.self.key.weight', 'encoder.layer.11.output.dense.bias', 'encoder.layer.6.attention.self.key.weight', 'encoder.layer.5.attention.output.LayerNorm.weight', 'encoder.layer.1.attention.self.key.weight', 'encoder.layer.7.attention.output.dense.weight', 'encoder.layer.8.attention.self.key.bias', 'encoder.layer.1.attention.output.dense.weight', 'encoder.layer.2.intermediate.dense.weight', 'encoder.layer.4.attention.output.dense.weight', 'encoder.layer.7.output.LayerNorm.bias', 'encoder.layer.5.attention.output.dense.weight', 'encoder.layer.9.attention.self.query.weight', 'encoder.layer.5.attention.self.value.bias', 'encoder.layer.7.attention.output.LayerNorm.bias', 'embeddings.LayerNorm.weight', 'encoder.layer.9.attention.self.key.bias', 'encoder.layer.1.output.dense.weight', 'encoder.layer.6.output.LayerNorm.weight', 'encoder.layer.0.attention.self.query.weight', 'encoder.layer.4.attention.output.dense.bias', 'encoder.layer.2.attention.output.LayerNorm.weight', 'encoder.layer.8.output.dense.bias', 'encoder.layer.0.attention.self.key.bias', 'encoder.layer.6.attention.output.dense.bias', 'encoder.layer.7.attention.output.dense.bias', 'encoder.layer.9.output.LayerNorm.weight', 'encoder.layer.4.output.LayerNorm.bias', 'encoder.layer.8.attention.self.value.bias', 'encoder.layer.4.output.LayerNorm.weight', 'encoder.layer.3.attention.output.LayerNorm.weight', 'encoder.layer.8.output.LayerNorm.bias', 'cls.predictions.bias', 'encoder.layer.5.output.LayerNorm.bias', 'encoder.layer.6.attention.output.LayerNorm.bias', 'encoder.layer.0.intermediate.dense.weight', 'encoder.layer.1.attention.self.value.weight', 'encoder.layer.6.attention.self.value.weight', 'encoder.layer.11.attention.output.dense.weight', 'encoder.layer.5.attention.self.value.weight', 'encoder.layer.6.attention.self.query.weight', 'encoder.layer.8.attention.output.dense.weight', 'encoder.layer.10.attention.self.query.weight', 'encoder.layer.6.attention.self.value.bias', 'encoder.layer.9.output.dense.bias', 'encoder.layer.1.attention.self.value.bias', 'encoder.layer.4.output.dense.weight', 'encoder.layer.10.attention.output.dense.bias', 'encoder.layer.0.attention.self.query.bias', 'encoder.layer.2.output.LayerNorm.bias', 'encoder.layer.6.intermediate.dense.weight', 'encoder.layer.3.output.dense.weight', 'encoder.layer.9.attention.self.key.weight', 'encoder.layer.0.output.dense.bias', 'encoder.layer.8.attention.output.dense.bias', 'encoder.layer.9.attention.output.LayerNorm.weight', 'encoder.layer.9.intermediate.dense.weight', 'encoder.layer.10.output.dense.bias', 'encoder.layer.7.attention.self.key.weight', 'encoder.layer.6.output.dense.bias', 'encoder.layer.5.intermediate.dense.weight', 'encoder.layer.0.attention.output.LayerNorm.weight', 'encoder.layer.3.attention.self.key.weight', 'embeddings.token_type_embeddings.weight', 'encoder.layer.4.output.dense.bias', 'encoder.layer.10.attention.self.value.weight', 'encoder.layer.2.output.dense.bias', 'encoder.layer.5.intermediate.dense.bias', 'encoder.layer.3.intermediate.dense.weight', 'encoder.layer.7.output.dense.bias', 'encoder.layer.11.attention.output.dense.bias', 'cls.predictions.transform.dense.bias', 'encoder.layer.3.attention.output.dense.bias', 'encoder.layer.6.output.LayerNorm.bias', 'encoder.layer.10.intermediate.dense.weight', 'encoder.layer.1.intermediate.dense.bias', 'encoder.layer.2.attention.self.value.bias', 'encoder.layer.7.intermediate.dense.bias', 'encoder.layer.7.intermediate.dense.weight', 'encoder.layer.4.attention.self.query.bias', 'encoder.layer.4.attention.output.LayerNorm.weight', 'encoder.layer.6.output.dense.weight', 'encoder.layer.8.attention.output.LayerNorm.weight', 'encoder.layer.10.attention.self.value.bias', 'encoder.layer.1.output.LayerNorm.weight', 'encoder.layer.4.attention.self.value.bias', 'encoder.layer.0.attention.self.value.weight', 'encoder.layer.6.attention.self.query.bias', 'encoder.layer.9.attention.output.LayerNorm.bias', 'encoder.layer.2.attention.output.LayerNorm.bias', 'encoder.layer.1.attention.self.query.weight', 'cls.predictions.transform.dense.weight', 'encoder.layer.8.output.dense.weight', 'encoder.layer.0.output.LayerNorm.bias', 'encoder.layer.7.attention.self.key.bias', 'encoder.layer.9.attention.self.value.weight', 'encoder.layer.7.attention.output.LayerNorm.weight', 'encoder.layer.5.attention.output.dense.bias', 'encoder.layer.10.output.LayerNorm.weight', 'encoder.layer.11.output.dense.weight', 'encoder.layer.7.output.LayerNorm.weight', 'encoder.layer.9.attention.self.query.bias', 'encoder.layer.10.output.dense.weight', 'encoder.layer.2.attention.self.query.weight', 'encoder.layer.6.attention.output.dense.weight', 'encoder.layer.0.attention.output.dense.bias', 'encoder.layer.11.attention.self.key.weight', 'encoder.layer.5.attention.self.key.bias', 'encoder.layer.2.attention.output.dense.bias', 'encoder.layer.10.attention.self.key.bias', 'encoder.layer.0.output.LayerNorm.weight', 'encoder.layer.1.intermediate.dense.weight', 'encoder.layer.3.output.dense.bias', 'encoder.layer.9.output.dense.weight', 'encoder.layer.9.output.LayerNorm.bias', 'encoder.layer.3.output.LayerNorm.bias', 'encoder.layer.9.attention.self.value.bias', 'encoder.layer.8.intermediate.dense.weight', 'encoder.layer.10.attention.self.query.bias', 'encoder.layer.11.attention.output.LayerNorm.weight', 'embeddings.word_embeddings.weight', 'encoder.layer.11.intermediate.dense.bias', 'encoder.layer.11.attention.self.query.weight', 'encoder.layer.7.output.dense.weight', 'encoder.layer.3.attention.self.key.bias', 'encoder.layer.4.intermediate.dense.weight', 'encoder.layer.0.output.dense.weight', 'encoder.layer.2.attention.self.value.weight', 'encoder.layer.2.output.LayerNorm.weight', 'encoder.layer.2.attention.output.dense.weight', 'encoder.layer.5.output.LayerNorm.weight', 'encoder.layer.10.intermediate.dense.bias', 'cls.predictions.decoder.weight', 'embeddings.position_embeddings.weight', 'encoder.layer.7.attention.self.value.bias', 'encoder.layer.9.attention.output.dense.bias', 'encoder.layer.0.attention.self.key.weight', 'encoder.layer.10.attention.output.LayerNorm.weight', 'encoder.layer.8.attention.self.key.weight', 'encoder.layer.4.attention.output.LayerNorm.bias', 'encoder.layer.4.attention.self.query.weight', 'encoder.layer.3.attention.self.query.weight', 'encoder.layer.9.attention.output.dense.weight', 'encoder.layer.1.attention.output.LayerNorm.weight', 'encoder.layer.8.attention.output.LayerNorm.bias', 'encoder.layer.8.attention.self.value.weight', 'encoder.layer.6.intermediate.dense.bias', 'encoder.layer.5.output.dense.weight', 'encoder.layer.10.attention.output.LayerNorm.bias', 'encoder.layer.3.attention.self.value.bias', 'encoder.layer.3.attention.output.dense.weight', 'encoder.layer.3.attention.self.query.bias', 'encoder.layer.1.attention.output.LayerNorm.bias', 'encoder.layer.0.attention.output.LayerNorm.bias', 'encoder.layer.11.attention.self.key.bias', 'encoder.layer.10.output.LayerNorm.bias']\n",
      "You should probably TRAIN this model on a down-stream task to be able to use it for predictions and inference.\n"
     ]
    }
   ],
   "source": [
    "model = CustomBERTClass()"
   ]
  },
  {
   "cell_type": "code",
   "execution_count": 5,
   "metadata": {},
   "outputs": [],
   "source": [
    "from transformers_interpret import SequenceClassificationExplainer"
   ]
  },
  {
   "cell_type": "code",
   "execution_count": 6,
   "metadata": {},
   "outputs": [],
   "source": [
    "cls_explainer = SequenceClassificationExplainer(\n",
    "    model=model,\n",
    "    tokenizer=tokenizer\n",
    ")"
   ]
  },
  {
   "cell_type": "code",
   "execution_count": 7,
   "metadata": {},
   "outputs": [
    {
     "ename": "IndexError",
     "evalue": "Dimension out of range (expected to be in range of [-1, 0], but got 1)",
     "output_type": "error",
     "traceback": [
      "\u001b[1;31m---------------------------------------------------------------------------\u001b[0m",
      "\u001b[1;31mIndexError\u001b[0m                                Traceback (most recent call last)",
      "\u001b[1;32mc:\\Users\\sozulab\\Desktop\\ml-study\\notebooks\\transfomers_interpret_example.ipynb Cell 7'\u001b[0m in \u001b[0;36m<module>\u001b[1;34m\u001b[0m\n\u001b[0;32m      <a href='vscode-notebook-cell:/c%3A/Users/sozulab/Desktop/ml-study/notebooks/transfomers_interpret_example.ipynb#ch0000007?line=0'>1</a>\u001b[0m \u001b[39m# 出力の次元があっていないのでエラー\u001b[39;00m\n\u001b[1;32m----> <a href='vscode-notebook-cell:/c%3A/Users/sozulab/Desktop/ml-study/notebooks/transfomers_interpret_example.ipynb#ch0000007?line=1'>2</a>\u001b[0m cls_explainer(\u001b[39m\"\u001b[39;49m\u001b[39mI like you.\u001b[39;49m\u001b[39m\"\u001b[39;49m)\n",
      "File \u001b[1;32mc:\\Users\\sozulab\\Desktop\\ml-study\\.venv\\lib\\site-packages\\transformers_interpret\\explainers\\sequence_classification.py:324\u001b[0m, in \u001b[0;36mSequenceClassificationExplainer.__call__\u001b[1;34m(self, text, index, class_name, embedding_type, internal_batch_size, n_steps)\u001b[0m\n\u001b[0;32m    <a href='file:///c%3A/Users/sozulab/Desktop/ml-study/.venv/lib/site-packages/transformers_interpret/explainers/sequence_classification.py?line=321'>322</a>\u001b[0m \u001b[39mif\u001b[39;00m internal_batch_size:\n\u001b[0;32m    <a href='file:///c%3A/Users/sozulab/Desktop/ml-study/.venv/lib/site-packages/transformers_interpret/explainers/sequence_classification.py?line=322'>323</a>\u001b[0m     \u001b[39mself\u001b[39m\u001b[39m.\u001b[39minternal_batch_size \u001b[39m=\u001b[39m internal_batch_size\n\u001b[1;32m--> <a href='file:///c%3A/Users/sozulab/Desktop/ml-study/.venv/lib/site-packages/transformers_interpret/explainers/sequence_classification.py?line=323'>324</a>\u001b[0m \u001b[39mreturn\u001b[39;00m \u001b[39mself\u001b[39;49m\u001b[39m.\u001b[39;49m_run(text, index, class_name, embedding_type\u001b[39m=\u001b[39;49membedding_type)\n",
      "File \u001b[1;32mc:\\Users\\sozulab\\Desktop\\ml-study\\.venv\\lib\\site-packages\\transformers_interpret\\explainers\\sequence_classification.py:276\u001b[0m, in \u001b[0;36mSequenceClassificationExplainer._run\u001b[1;34m(self, text, index, class_name, embedding_type)\u001b[0m\n\u001b[0;32m    <a href='file:///c%3A/Users/sozulab/Desktop/ml-study/.venv/lib/site-packages/transformers_interpret/explainers/sequence_classification.py?line=271'>272</a>\u001b[0m         embeddings \u001b[39m=\u001b[39m \u001b[39mself\u001b[39m\u001b[39m.\u001b[39mword_embeddings\n\u001b[0;32m    <a href='file:///c%3A/Users/sozulab/Desktop/ml-study/.venv/lib/site-packages/transformers_interpret/explainers/sequence_classification.py?line=273'>274</a>\u001b[0m \u001b[39mself\u001b[39m\u001b[39m.\u001b[39mtext \u001b[39m=\u001b[39m \u001b[39mself\u001b[39m\u001b[39m.\u001b[39m_clean_text(text)\n\u001b[1;32m--> <a href='file:///c%3A/Users/sozulab/Desktop/ml-study/.venv/lib/site-packages/transformers_interpret/explainers/sequence_classification.py?line=275'>276</a>\u001b[0m \u001b[39mself\u001b[39;49m\u001b[39m.\u001b[39;49m_calculate_attributions(\n\u001b[0;32m    <a href='file:///c%3A/Users/sozulab/Desktop/ml-study/.venv/lib/site-packages/transformers_interpret/explainers/sequence_classification.py?line=276'>277</a>\u001b[0m     embeddings\u001b[39m=\u001b[39;49membeddings, index\u001b[39m=\u001b[39;49mindex, class_name\u001b[39m=\u001b[39;49mclass_name\n\u001b[0;32m    <a href='file:///c%3A/Users/sozulab/Desktop/ml-study/.venv/lib/site-packages/transformers_interpret/explainers/sequence_classification.py?line=277'>278</a>\u001b[0m )\n\u001b[0;32m    <a href='file:///c%3A/Users/sozulab/Desktop/ml-study/.venv/lib/site-packages/transformers_interpret/explainers/sequence_classification.py?line=278'>279</a>\u001b[0m \u001b[39mreturn\u001b[39;00m \u001b[39mself\u001b[39m\u001b[39m.\u001b[39mword_attributions\n",
      "File \u001b[1;32mc:\\Users\\sozulab\\Desktop\\ml-study\\.venv\\lib\\site-packages\\transformers_interpret\\explainers\\sequence_classification.py:230\u001b[0m, in \u001b[0;36mSequenceClassificationExplainer._calculate_attributions\u001b[1;34m(self, embeddings, index, class_name)\u001b[0m\n\u001b[0;32m    <a href='file:///c%3A/Users/sozulab/Desktop/ml-study/.venv/lib/site-packages/transformers_interpret/explainers/sequence_classification.py?line=227'>228</a>\u001b[0m         \u001b[39mself\u001b[39m\u001b[39m.\u001b[39mselected_index \u001b[39m=\u001b[39m \u001b[39mint\u001b[39m(\u001b[39mself\u001b[39m\u001b[39m.\u001b[39mpredicted_class_index)\n\u001b[0;32m    <a href='file:///c%3A/Users/sozulab/Desktop/ml-study/.venv/lib/site-packages/transformers_interpret/explainers/sequence_classification.py?line=228'>229</a>\u001b[0m \u001b[39melse\u001b[39;00m:\n\u001b[1;32m--> <a href='file:///c%3A/Users/sozulab/Desktop/ml-study/.venv/lib/site-packages/transformers_interpret/explainers/sequence_classification.py?line=229'>230</a>\u001b[0m     \u001b[39mself\u001b[39m\u001b[39m.\u001b[39mselected_index \u001b[39m=\u001b[39m \u001b[39mint\u001b[39m(\u001b[39mself\u001b[39;49m\u001b[39m.\u001b[39;49mpredicted_class_index)\n\u001b[0;32m    <a href='file:///c%3A/Users/sozulab/Desktop/ml-study/.venv/lib/site-packages/transformers_interpret/explainers/sequence_classification.py?line=231'>232</a>\u001b[0m reference_tokens \u001b[39m=\u001b[39m [\n\u001b[0;32m    <a href='file:///c%3A/Users/sozulab/Desktop/ml-study/.venv/lib/site-packages/transformers_interpret/explainers/sequence_classification.py?line=232'>233</a>\u001b[0m     token\u001b[39m.\u001b[39mreplace(\u001b[39m\"\u001b[39m\u001b[39mĠ\u001b[39m\u001b[39m\"\u001b[39m, \u001b[39m\"\u001b[39m\u001b[39m\"\u001b[39m) \u001b[39mfor\u001b[39;00m token \u001b[39min\u001b[39;00m \u001b[39mself\u001b[39m\u001b[39m.\u001b[39mdecode(\u001b[39mself\u001b[39m\u001b[39m.\u001b[39minput_ids)\n\u001b[0;32m    <a href='file:///c%3A/Users/sozulab/Desktop/ml-study/.venv/lib/site-packages/transformers_interpret/explainers/sequence_classification.py?line=233'>234</a>\u001b[0m ]\n\u001b[0;32m    <a href='file:///c%3A/Users/sozulab/Desktop/ml-study/.venv/lib/site-packages/transformers_interpret/explainers/sequence_classification.py?line=234'>235</a>\u001b[0m lig \u001b[39m=\u001b[39m LIGAttributions(\n\u001b[0;32m    <a href='file:///c%3A/Users/sozulab/Desktop/ml-study/.venv/lib/site-packages/transformers_interpret/explainers/sequence_classification.py?line=235'>236</a>\u001b[0m     \u001b[39mself\u001b[39m\u001b[39m.\u001b[39m_forward,\n\u001b[0;32m    <a href='file:///c%3A/Users/sozulab/Desktop/ml-study/.venv/lib/site-packages/transformers_interpret/explainers/sequence_classification.py?line=236'>237</a>\u001b[0m     embeddings,\n\u001b[1;32m   (...)\u001b[0m\n\u001b[0;32m    <a href='file:///c%3A/Users/sozulab/Desktop/ml-study/.venv/lib/site-packages/transformers_interpret/explainers/sequence_classification.py?line=245'>246</a>\u001b[0m     n_steps\u001b[39m=\u001b[39m\u001b[39mself\u001b[39m\u001b[39m.\u001b[39mn_steps,\n\u001b[0;32m    <a href='file:///c%3A/Users/sozulab/Desktop/ml-study/.venv/lib/site-packages/transformers_interpret/explainers/sequence_classification.py?line=246'>247</a>\u001b[0m )\n",
      "File \u001b[1;32mc:\\Users\\sozulab\\Desktop\\ml-study\\.venv\\lib\\site-packages\\transformers_interpret\\explainers\\sequence_classification.py:113\u001b[0m, in \u001b[0;36mSequenceClassificationExplainer.predicted_class_index\u001b[1;34m(self)\u001b[0m\n\u001b[0;32m    <a href='file:///c%3A/Users/sozulab/Desktop/ml-study/.venv/lib/site-packages/transformers_interpret/explainers/sequence_classification.py?line=110'>111</a>\u001b[0m     preds \u001b[39m=\u001b[39m \u001b[39mself\u001b[39m\u001b[39m.\u001b[39mmodel(\u001b[39mself\u001b[39m\u001b[39m.\u001b[39minput_ids)[\u001b[39m0\u001b[39m]\n\u001b[0;32m    <a href='file:///c%3A/Users/sozulab/Desktop/ml-study/.venv/lib/site-packages/transformers_interpret/explainers/sequence_classification.py?line=111'>112</a>\u001b[0m     \u001b[39mself\u001b[39m\u001b[39m.\u001b[39mpred_class \u001b[39m=\u001b[39m torch\u001b[39m.\u001b[39margmax(torch\u001b[39m.\u001b[39msoftmax(preds, dim\u001b[39m=\u001b[39m\u001b[39m0\u001b[39m)[\u001b[39m0\u001b[39m])\n\u001b[1;32m--> <a href='file:///c%3A/Users/sozulab/Desktop/ml-study/.venv/lib/site-packages/transformers_interpret/explainers/sequence_classification.py?line=112'>113</a>\u001b[0m     \u001b[39mreturn\u001b[39;00m torch\u001b[39m.\u001b[39margmax(torch\u001b[39m.\u001b[39;49msoftmax(preds, dim\u001b[39m=\u001b[39;49m\u001b[39m1\u001b[39;49m)[\u001b[39m0\u001b[39m])\u001b[39m.\u001b[39mcpu()\u001b[39m.\u001b[39mdetach()\u001b[39m.\u001b[39mnumpy()\n\u001b[0;32m    <a href='file:///c%3A/Users/sozulab/Desktop/ml-study/.venv/lib/site-packages/transformers_interpret/explainers/sequence_classification.py?line=114'>115</a>\u001b[0m \u001b[39melse\u001b[39;00m:\n\u001b[0;32m    <a href='file:///c%3A/Users/sozulab/Desktop/ml-study/.venv/lib/site-packages/transformers_interpret/explainers/sequence_classification.py?line=115'>116</a>\u001b[0m     \u001b[39mraise\u001b[39;00m InputIdsNotCalculatedError(\u001b[39m\"\u001b[39m\u001b[39minput_ids have not been created yet.`\u001b[39m\u001b[39m\"\u001b[39m)\n",
      "\u001b[1;31mIndexError\u001b[0m: Dimension out of range (expected to be in range of [-1, 0], but got 1)"
     ]
    }
   ],
   "source": [
    "# 出力の次元があっていないのでエラー\n",
    "cls_explainer(\"I like you.\")"
   ]
  },
  {
   "cell_type": "code",
   "execution_count": 8,
   "metadata": {},
   "outputs": [],
   "source": [
    "class BERTExplainer(SequenceClassificationExplainer):\n",
    "    @property\n",
    "    def predicted_class_index(self) -> int:\n",
    "        \"Returns predicted class index (int) for model with last calculated `input_ids`\"\n",
    "        if len(self.input_ids) > 0:\n",
    "            # we call this before _forward() so it has to be calculated twice\n",
    "            preds = self.model(self.input_ids)\n",
    "            self.pred_class = torch.argmax(torch.softmax(preds, dim=0)[0])\n",
    "            return torch.argmax(torch.softmax(preds, dim=1)[0]).cpu().detach().numpy()\n",
    "\n",
    "        else:\n",
    "            raise InputIdsNotCalculatedError(\"input_ids have not been created yet.`\")\n",
    "\n",
    "    def _forward(  # type: ignore\n",
    "        self,\n",
    "        input_ids: torch.Tensor,\n",
    "        position_ids: torch.Tensor = None,\n",
    "        attention_mask: torch.Tensor = None,\n",
    "    ):\n",
    "\n",
    "        if self.accepts_position_ids:\n",
    "            preds = self.model(\n",
    "                input_ids,\n",
    "                position_ids=position_ids,\n",
    "                attention_mask=attention_mask,\n",
    "            )\n",
    "            #preds = preds[0]\n",
    "\n",
    "        else:\n",
    "            preds = self.model(input_ids, attention_mask)\n",
    "\n",
    "        # if it is a single output node\n",
    "        if len(preds[0]) == 1:\n",
    "            self._single_node_output = True\n",
    "            self.pred_probs = torch.sigmoid(preds)[0][0]\n",
    "            return torch.sigmoid(preds)[:, :]\n",
    "\n",
    "        self.pred_probs = torch.softmax(preds, dim=1)[0][self.selected_index]\n",
    "        return torch.softmax(preds, dim=1)[:, self.selected_index]"
   ]
  },
  {
   "cell_type": "code",
   "execution_count": 9,
   "metadata": {},
   "outputs": [],
   "source": [
    "cls_explainer = BERTExplainer(\n",
    "    model=model,\n",
    "    tokenizer=tokenizer\n",
    ")"
   ]
  },
  {
   "cell_type": "code",
   "execution_count": 10,
   "metadata": {},
   "outputs": [
    {
     "data": {
      "text/plain": [
       "[('[CLS]', 0.0),\n",
       " ('i', -0.020300999706232583),\n",
       " ('like', -0.3233927557783712),\n",
       " ('you', -0.3678551104818028),\n",
       " ('.', -0.8716006038395218),\n",
       " ('[SEP]', 0.0)]"
      ]
     },
     "execution_count": 10,
     "metadata": {},
     "output_type": "execute_result"
    }
   ],
   "source": [
    "cls_explainer(\"I like you.\")"
   ]
  },
  {
   "cell_type": "code",
   "execution_count": null,
   "metadata": {},
   "outputs": [],
   "source": []
  }
 ],
 "metadata": {
  "interpreter": {
   "hash": "121a5b81439b94daa5c025b9e506cdb31bc845c994bbef515da36482da39ad62"
  },
  "kernelspec": {
   "display_name": "Python 3.9.0 ('.venv': poetry)",
   "language": "python",
   "name": "python3"
  },
  "language_info": {
   "codemirror_mode": {
    "name": "ipython",
    "version": 3
   },
   "file_extension": ".py",
   "mimetype": "text/x-python",
   "name": "python",
   "nbconvert_exporter": "python",
   "pygments_lexer": "ipython3",
   "version": "3.9.0"
  },
  "orig_nbformat": 4
 },
 "nbformat": 4,
 "nbformat_minor": 2
}

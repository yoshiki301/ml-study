{
 "cells": [
  {
   "cell_type": "code",
   "execution_count": 1,
   "metadata": {},
   "outputs": [],
   "source": [
    "import numpy as np\n",
    "\n",
    "import torch\n",
    "import torch.nn as nn\n",
    "import torch.optim as optim"
   ]
  },
  {
   "cell_type": "code",
   "execution_count": 2,
   "metadata": {},
   "outputs": [],
   "source": [
    "class LSTMClassifier(nn.Module):\n",
    "    def __init__(self, input_dim, hidden_dim, output_dim):\n",
    "        super(LSTMClassifier, self).__init__()\n",
    "        self.hidden_dim = hidden_dim\n",
    "        self.lstm = nn.LSTM(input_dim, hidden_dim)\n",
    "        self.hidden2out = nn.Linear(hidden_dim, output_dim)\n",
    "        self.softmax = nn.Softmax(dim=1)\n",
    "\n",
    "\n",
    "    def forward(self, x):\n",
    "        _, lstm_out = self.lstm(x.view(len(x), 1, -1))\n",
    "        class_space = self.hidden2out(lstm_out[0].view(-1, self.hidden_dim))\n",
    "        class_scores = self.softmax(class_space)\n",
    "        return class_scores"
   ]
  },
  {
   "cell_type": "code",
   "execution_count": 19,
   "metadata": {},
   "outputs": [],
   "source": [
    "def sample_series(target: int):\n",
    "    mean = target * 5 + 2\n",
    "    var = target / 0.5\n",
    "    x = np.random.normal(mean + 0.5, var + 0.1, size=100)\n",
    "    y = np.random.normal(mean - 0.5, var + 0.1, size=100)\n",
    "    return torch.tensor([x, y]).float().T"
   ]
  },
  {
   "cell_type": "code",
   "execution_count": 22,
   "metadata": {},
   "outputs": [],
   "source": [
    "# 時系列の2値分類\n",
    "lstm_classifier = LSTMClassifier(\n",
    "    input_dim=2,\n",
    "    hidden_dim=16,\n",
    "    output_dim=2\n",
    ")"
   ]
  },
  {
   "cell_type": "code",
   "execution_count": 23,
   "metadata": {},
   "outputs": [
    {
     "data": {
      "text/plain": [
       "tensor([[0.5950, 0.4050]], grad_fn=<SoftmaxBackward0>)"
      ]
     },
     "execution_count": 23,
     "metadata": {},
     "output_type": "execute_result"
    }
   ],
   "source": [
    "# 学習前なのでランダムな確率値\n",
    "lstm_classifier.forward(sample_series(0))"
   ]
  },
  {
   "cell_type": "code",
   "execution_count": 24,
   "metadata": {},
   "outputs": [],
   "source": [
    "criterion = nn.CrossEntropyLoss()\n",
    "optimizer = optim.Adam(lstm_classifier.parameters(), lr=0.001)"
   ]
  },
  {
   "cell_type": "code",
   "execution_count": 27,
   "metadata": {},
   "outputs": [],
   "source": [
    "datasets = []\n",
    "for i in range(100):\n",
    "    target = torch.tensor([i%2])\n",
    "    inputs = sample_series(i % 2)\n",
    "    datasets.append((inputs, target))"
   ]
  },
  {
   "cell_type": "code",
   "execution_count": 28,
   "metadata": {},
   "outputs": [
    {
     "name": "stdout",
     "output_type": "stream",
     "text": [
      "epoch:1, batch:100, loss: 0.5975463700294494\n",
      "epoch:2, batch:100, loss: 0.3630118614435196\n",
      "epoch:3, batch:100, loss: 0.3274684479832649\n",
      "epoch:4, batch:100, loss: 0.3211913686990738\n",
      "epoch:5, batch:100, loss: 0.31845935970544814\n",
      "epoch:6, batch:100, loss: 0.3168721160292625\n",
      "epoch:7, batch:100, loss: 0.3158703327178955\n",
      "epoch:8, batch:100, loss: 0.3152585390210152\n",
      "epoch:9, batch:100, loss: 0.31486267685890196\n",
      "epoch:10, batch:100, loss: 0.31458419501781465\n"
     ]
    }
   ],
   "source": [
    "verbose = 100\n",
    "\n",
    "for epoch in range(10):\n",
    "    running_loss = 0.0\n",
    "    for i, (inputs, target) in enumerate(datasets):\n",
    "        optimizer.zero_grad()\n",
    "        outputs = lstm_classifier(inputs)\n",
    "        loss = criterion(outputs, target)\n",
    "\n",
    "        loss.backward()\n",
    "        optimizer.step()\n",
    "        running_loss += loss.item()\n",
    "        if i % verbose == verbose-1:\n",
    "            print(f\"epoch:{epoch + 1}, batch:{i + 1}, loss: {running_loss / verbose}\")\n",
    "            running_loss = 0.0"
   ]
  },
  {
   "cell_type": "code",
   "execution_count": 29,
   "metadata": {},
   "outputs": [
    {
     "data": {
      "text/plain": [
       "tensor([[9.9908e-01, 9.1740e-04]], grad_fn=<SoftmaxBackward0>)"
      ]
     },
     "execution_count": 29,
     "metadata": {},
     "output_type": "execute_result"
    }
   ],
   "source": [
    "lstm_classifier(sample_series(0))"
   ]
  },
  {
   "cell_type": "code",
   "execution_count": 30,
   "metadata": {},
   "outputs": [
    {
     "data": {
      "text/plain": [
       "tensor([[0.0033, 0.9967]], grad_fn=<SoftmaxBackward0>)"
      ]
     },
     "execution_count": 30,
     "metadata": {},
     "output_type": "execute_result"
    }
   ],
   "source": [
    "lstm_classifier(sample_series(1))"
   ]
  },
  {
   "cell_type": "code",
   "execution_count": null,
   "metadata": {},
   "outputs": [],
   "source": []
  }
 ],
 "metadata": {
  "interpreter": {
   "hash": "121a5b81439b94daa5c025b9e506cdb31bc845c994bbef515da36482da39ad62"
  },
  "kernelspec": {
   "display_name": "Python 3.9.0 ('.venv': venv)",
   "language": "python",
   "name": "python3"
  },
  "language_info": {
   "codemirror_mode": {
    "name": "ipython",
    "version": 3
   },
   "file_extension": ".py",
   "mimetype": "text/x-python",
   "name": "python",
   "nbconvert_exporter": "python",
   "pygments_lexer": "ipython3",
   "version": "3.9.0"
  },
  "orig_nbformat": 4
 },
 "nbformat": 4,
 "nbformat_minor": 2
}
